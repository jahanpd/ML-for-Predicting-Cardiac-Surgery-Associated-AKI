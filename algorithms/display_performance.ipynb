{
 "cells": [
  {
   "cell_type": "code",
   "execution_count": 18,
   "metadata": {},
   "outputs": [
    {
     "name": "stdout",
     "output_type": "stream",
     "text": [
      "['output/performanceDTfull.npz', 'output/performanceSVMfull.npz', 'output/performanceRF.npz', 'output/performanceKNN.npz', 'output/performanceLR.npz', 'output/performanceDT.npz', 'output/performanceGBM.npz', 'output/performanceSVM.npz', 'output/performanceLRfull.npz', 'output/performanceMLPfull.npz', 'output/performanceRFfull.npz', 'output/performanceMLP.npz']\n"
     ]
    }
   ],
   "source": [
    "import numpy as np\n",
    "import glob\n",
    "\n",
    "paths = glob.glob(\"output/performance*.npz\")\n",
    "print(paths)"
   ]
  },
  {
   "cell_type": "code",
   "execution_count": 26,
   "metadata": {},
   "outputs": [
    {
     "name": "stdout",
     "output_type": "stream",
     "text": [
      "output/performanceDTfull.npz 0.7884061257352706 0.7821229956494443 0.7946892558210968\n",
      "output/performanceSVMfull.npz 0.8094097493258412 0.8033749514361547 0.8154445472155277\n",
      "output/performanceRF.npz 0.7593547558202154 0.7525148664291468 0.766194645211284\n",
      "output/performanceKNN.npz 0.5384632394072403 0.5333413472903102 0.5435851315241703\n",
      "output/performanceLR.npz 0.7628186343237792 0.7564242593255308 0.7692130093220275\n",
      "output/performanceDT.npz 0.7371536536053146 0.7303018114555265 0.7440054957551027\n",
      "output/performanceGBM.npz 0.6748825425356568 0.6671573892098442 0.6826076958614694\n",
      "output/performanceSVM.npz 0.7604216223132523 0.7537235777614629 0.7671196668650416\n",
      "output/performanceLRfull.npz 0.810165077271083 0.8042693932773812 0.8160607612647848\n",
      "output/performanceMLPfull.npz 0.6007300783543538 0.5990917692831351 0.6023683874255724\n",
      "output/performanceRFfull.npz 0.8110305051757314 0.8052212752787793 0.8168397350726835\n",
      "output/performanceMLP.npz 0.5549068691522941 0.5516013586617211 0.5582123796428672\n"
     ]
    }
   ],
   "source": [
    "for path in paths:\n",
    "    data = np.load(path)\n",
    "    std = np.std(data['auc'])\n",
    "    ci = 1.96 * (std/np.sqrt(100))\n",
    "    mean = np.mean(data['auc'])\n",
    "    print(path, mean, mean - ci, mean + ci)"
   ]
  },
  {
   "cell_type": "code",
   "execution_count": 22,
   "metadata": {},
   "outputs": [
    {
     "name": "stdout",
     "output_type": "stream",
     "text": [
      "output/performanceDTfull.npz 0.176088 0.175339905573173 0.176836094426827\n",
      "output/performanceSVMfull.npz 0.25187 0.24758796063257701 0.2561520393674229\n",
      "output/performanceRF.npz 0.19148099999999998 0.19073395547095073 0.19222804452904924\n",
      "output/performanceKNN.npz 0.087113 0.08654689502509728 0.08767910497490271\n",
      "output/performanceLR.npz 0.27047999999999994 0.2695874064453739 0.271372593554626\n",
      "output/performanceDT.npz 0.20447000000000004 0.20366892543657913 0.20527107456342095\n",
      "output/performanceGBM.npz 0.05475500000000001 0.05431537861930976 0.05519462138069026\n",
      "output/performanceSVM.npz 0.27761899999999995 0.272413406839187 0.2828245931608129\n",
      "output/performanceLRfull.npz 0.233363 0.23254860353475126 0.2341773964652487\n"
     ]
    },
    {
     "ename": "KeyError",
     "evalue": "'briers is not a file in the archive'",
     "output_type": "error",
     "traceback": [
      "\u001b[0;31m---------------------------------------------------------------------------\u001b[0m",
      "\u001b[0;31mKeyError\u001b[0m                                  Traceback (most recent call last)",
      "\u001b[0;32m<ipython-input-22-51d4c2dfc067>\u001b[0m in \u001b[0;36m<module>\u001b[0;34m\u001b[0m\n\u001b[1;32m      1\u001b[0m \u001b[0;32mfor\u001b[0m \u001b[0mpath\u001b[0m \u001b[0;32min\u001b[0m \u001b[0mpaths\u001b[0m\u001b[0;34m:\u001b[0m\u001b[0;34m\u001b[0m\u001b[0;34m\u001b[0m\u001b[0m\n\u001b[1;32m      2\u001b[0m     \u001b[0mdata\u001b[0m \u001b[0;34m=\u001b[0m \u001b[0mnp\u001b[0m\u001b[0;34m.\u001b[0m\u001b[0mload\u001b[0m\u001b[0;34m(\u001b[0m\u001b[0mpath\u001b[0m\u001b[0;34m)\u001b[0m\u001b[0;34m\u001b[0m\u001b[0;34m\u001b[0m\u001b[0m\n\u001b[0;32m----> 3\u001b[0;31m     \u001b[0mstd\u001b[0m \u001b[0;34m=\u001b[0m \u001b[0mnp\u001b[0m\u001b[0;34m.\u001b[0m\u001b[0mstd\u001b[0m\u001b[0;34m(\u001b[0m\u001b[0mdata\u001b[0m\u001b[0;34m[\u001b[0m\u001b[0;34m'briers'\u001b[0m\u001b[0;34m]\u001b[0m\u001b[0;34m)\u001b[0m\u001b[0;34m\u001b[0m\u001b[0;34m\u001b[0m\u001b[0m\n\u001b[0m\u001b[1;32m      4\u001b[0m     \u001b[0mci\u001b[0m \u001b[0;34m=\u001b[0m \u001b[0;36m1.96\u001b[0m \u001b[0;34m*\u001b[0m \u001b[0;34m(\u001b[0m\u001b[0mstd\u001b[0m\u001b[0;34m/\u001b[0m\u001b[0mnp\u001b[0m\u001b[0;34m.\u001b[0m\u001b[0msqrt\u001b[0m\u001b[0;34m(\u001b[0m\u001b[0;36m1000\u001b[0m\u001b[0;34m)\u001b[0m\u001b[0;34m)\u001b[0m\u001b[0;34m\u001b[0m\u001b[0;34m\u001b[0m\u001b[0m\n\u001b[1;32m      5\u001b[0m     \u001b[0mmean\u001b[0m \u001b[0;34m=\u001b[0m \u001b[0mnp\u001b[0m\u001b[0;34m.\u001b[0m\u001b[0mmean\u001b[0m\u001b[0;34m(\u001b[0m\u001b[0mdata\u001b[0m\u001b[0;34m[\u001b[0m\u001b[0;34m'briers'\u001b[0m\u001b[0;34m]\u001b[0m\u001b[0;34m)\u001b[0m\u001b[0;34m\u001b[0m\u001b[0;34m\u001b[0m\u001b[0m\n",
      "\u001b[0;32m~/miniconda3/envs/ml_cpu/lib/python3.7/site-packages/numpy/lib/npyio.py\u001b[0m in \u001b[0;36m__getitem__\u001b[0;34m(self, key)\u001b[0m\n\u001b[1;32m    264\u001b[0m                 \u001b[0;32mreturn\u001b[0m \u001b[0mself\u001b[0m\u001b[0;34m.\u001b[0m\u001b[0mzip\u001b[0m\u001b[0;34m.\u001b[0m\u001b[0mread\u001b[0m\u001b[0;34m(\u001b[0m\u001b[0mkey\u001b[0m\u001b[0;34m)\u001b[0m\u001b[0;34m\u001b[0m\u001b[0;34m\u001b[0m\u001b[0m\n\u001b[1;32m    265\u001b[0m         \u001b[0;32melse\u001b[0m\u001b[0;34m:\u001b[0m\u001b[0;34m\u001b[0m\u001b[0;34m\u001b[0m\u001b[0m\n\u001b[0;32m--> 266\u001b[0;31m             \u001b[0;32mraise\u001b[0m \u001b[0mKeyError\u001b[0m\u001b[0;34m(\u001b[0m\u001b[0;34m\"%s is not a file in the archive\"\u001b[0m \u001b[0;34m%\u001b[0m \u001b[0mkey\u001b[0m\u001b[0;34m)\u001b[0m\u001b[0;34m\u001b[0m\u001b[0;34m\u001b[0m\u001b[0m\n\u001b[0m\u001b[1;32m    267\u001b[0m \u001b[0;34m\u001b[0m\u001b[0m\n\u001b[1;32m    268\u001b[0m \u001b[0;34m\u001b[0m\u001b[0m\n",
      "\u001b[0;31mKeyError\u001b[0m: 'briers is not a file in the archive'"
     ]
    }
   ],
   "source": [
    "for path in paths:\n",
    "    data = np.load(path)\n",
    "    std = np.std(data['briers'])\n",
    "    ci = 1.96 * (std/np.sqrt(1000))\n",
    "    mean = np.mean(data['briers'])\n",
    "    print(path, mean, mean - ci, mean + ci)"
   ]
  },
  {
   "cell_type": "code",
   "execution_count": 25,
   "metadata": {},
   "outputs": [
    {
     "name": "stdout",
     "output_type": "stream",
     "text": [
      "output/performanceDTfull.npz 0.5501965733936345 0.5370456496089039 0.5633474971783651\n",
      "output/performanceSVMfull.npz 0.7616988938662864 0.744942467002696 0.7784553207298769\n",
      "output/performanceRF.npz 0.5380609561840897 0.5241880928985361 0.5519338194696433\n",
      "output/performanceKNN.npz 0.09096869035602259 0.08321635273119239 0.09872102798085279\n",
      "output/performanceLR.npz 0.6667997824089009 0.6545723559729517 0.6790272088448501\n",
      "output/performanceDT.npz 0.5145644261891505 0.5008607878863329 0.5282680644919682\n",
      "output/performanceGBM.npz 0.0193577165674785 0.0157471699084853 0.022968263226471698\n",
      "output/performanceSVM.npz 0.7114972406660974 0.6927096985683752 0.7302847827638197\n",
      "output/performanceLRfull.npz 0.6936675350683552 0.681308309501976 0.7060267606347345\n",
      "output/performanceMLPfull.npz 0.8887557988754972 0.8860670967263827 0.8914445010246116\n",
      "output/performanceRFfull.npz 0.5813122154395571 0.5681963311877373 0.594428099691377\n",
      "output/performanceMLP.npz 0.9902998343459283 0.987567861034612 0.9930318076572445\n"
     ]
    }
   ],
   "source": [
    "for path in paths:\n",
    "    data = np.load(path)\n",
    "    std = np.std(data['sens'])\n",
    "    ci = 1.96 * (std/np.sqrt(100))\n",
    "    mean = np.mean(data['sens'])\n",
    "    print(path, mean, mean - ci, mean + ci)"
   ]
  },
  {
   "cell_type": "code",
   "execution_count": 24,
   "metadata": {},
   "outputs": [
    {
     "name": "stdout",
     "output_type": "stream",
     "text": [
      "output/performanceDTfull.npz 0.8392231628191736 0.8384822772987922 0.8399640483395551\n",
      "output/performanceSVMfull.npz 0.7473595203991963 0.7426267566466473 0.7520922841517452\n",
      "output/performanceRF.npz 0.8236812023897221 0.8229375976633265 0.8244248071161177\n",
      "output/performanceKNN.npz 0.9588122720510508 0.9584063229409023 0.9592182211611993\n",
      "output/performanceLR.npz 0.7330604434940294 0.732138123984113 0.7339827630039458\n",
      "output/performanceDT.npz 0.8112826466234652 0.810481149903617 0.8120841433433134\n",
      "output/performanceGBM.npz 0.9972763643419992 0.9971703039296977 0.9973824247543006\n",
      "output/performanceSVM.npz 0.7230530884325115 0.7173027576873504 0.7288034191776726\n",
      "output/performanceLRfull.npz 0.77073231859226 0.7698941628961726 0.7715704742883474\n",
      "output/performanceMLPfull.npz 0.2666356832791074 0.2663432742368956 0.26692809232131925\n",
      "output/performanceRFfull.npz 0.8544710565473392 0.8537421646278611 0.8551999484668174\n",
      "output/performanceMLP.npz 0.0206204600952069 0.020330849526771756 0.020910070663642047\n"
     ]
    }
   ],
   "source": [
    "for path in paths:\n",
    "    data = np.load(path)\n",
    "    std = np.std(data['spec'])\n",
    "    ci = 1.96 * (std/np.sqrt(1000))\n",
    "    mean = np.mean(data['spec'])\n",
    "    print(path, mean, mean - ci, mean + ci)"
   ]
  },
  {
   "cell_type": "code",
   "execution_count": null,
   "metadata": {},
   "outputs": [],
   "source": []
  }
 ],
 "metadata": {
  "kernelspec": {
   "display_name": "Python 3",
   "language": "python",
   "name": "python3"
  },
  "language_info": {
   "codemirror_mode": {
    "name": "ipython",
    "version": 3
   },
   "file_extension": ".py",
   "mimetype": "text/x-python",
   "name": "python",
   "nbconvert_exporter": "python",
   "pygments_lexer": "ipython3",
   "version": "3.7.5"
  }
 },
 "nbformat": 4,
 "nbformat_minor": 2
}
